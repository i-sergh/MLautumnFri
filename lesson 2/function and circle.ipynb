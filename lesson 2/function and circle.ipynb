{
 "cells": [
  {
   "cell_type": "code",
   "execution_count": 14,
   "id": "6b5c916f",
   "metadata": {},
   "outputs": [],
   "source": [
    "import cv2\n",
    "import numpy as np\n",
    "\n",
    "from random import randint"
   ]
  },
  {
   "cell_type": "code",
   "execution_count": 49,
   "id": "dc02d45d",
   "metadata": {},
   "outputs": [],
   "source": [
    "def  draw (cnv, x, y, color=(250, 130, 200)):\n",
    "    cv2.circle(cnv, (x, y), 50, color, -1 )\n",
    "    \n",
    "# написать ф-ю отталкивания от стен\n"
   ]
  },
  {
   "cell_type": "code",
   "execution_count": 51,
   "id": "d6a26a59",
   "metadata": {},
   "outputs": [],
   "source": [
    "cnv = np.zeros( (600,600, 3), dtype=np.uint8() )\n",
    "x = 30\n",
    "y = 100\n",
    "while True:\n",
    "    draw(cnv, x, y, (0, 0, 0) )\n",
    "    \n",
    "    x += 1\n",
    "    y += 3\n",
    "    draw(cnv, x, y)\n",
    "    cv2.imshow('sharik', cnv)\n",
    "    \n",
    "    \n",
    "    key = cv2.waitKey(1)\n",
    "    if key == 27:\n",
    "        break\n",
    "\n",
    "cv2.destroyAllWindows()"
   ]
  },
  {
   "cell_type": "code",
   "execution_count": 28,
   "id": "b4781c11",
   "metadata": {},
   "outputs": [],
   "source": [
    "# Это убивает физическую память компа\n",
    "#i = 0\n",
    "#while True:\n",
    "#    with open('spam\\\\spam' + str(i) + '.txt', 'w') as f :\n",
    "#        f.write('*'*10000000)\n",
    "#    i+=1\n"
   ]
  },
  {
   "cell_type": "code",
   "execution_count": 19,
   "id": "9dca913c",
   "metadata": {},
   "outputs": [
    {
     "ename": "NameError",
     "evalue": "name 'f' is not defined",
     "output_type": "error",
     "traceback": [
      "\u001b[1;31m---------------------------------------------------------------------------\u001b[0m",
      "\u001b[1;31mNameError\u001b[0m                                 Traceback (most recent call last)",
      "Input \u001b[1;32mIn [19]\u001b[0m, in \u001b[0;36m<cell line: 1>\u001b[1;34m()\u001b[0m\n\u001b[1;32m----> 1\u001b[0m \u001b[43mf\u001b[49m\u001b[38;5;241m.\u001b[39mclose()\n",
      "\u001b[1;31mNameError\u001b[0m: name 'f' is not defined"
     ]
    }
   ],
   "source": []
  },
  {
   "cell_type": "code",
   "execution_count": null,
   "id": "9bbb682f",
   "metadata": {},
   "outputs": [],
   "source": []
  }
 ],
 "metadata": {
  "celltoolbar": "Raw Cell Format",
  "kernelspec": {
   "display_name": "Python 3 (ipykernel)",
   "language": "python",
   "name": "python3"
  },
  "language_info": {
   "codemirror_mode": {
    "name": "ipython",
    "version": 3
   },
   "file_extension": ".py",
   "mimetype": "text/x-python",
   "name": "python",
   "nbconvert_exporter": "python",
   "pygments_lexer": "ipython3",
   "version": "3.10.2"
  }
 },
 "nbformat": 4,
 "nbformat_minor": 5
}
