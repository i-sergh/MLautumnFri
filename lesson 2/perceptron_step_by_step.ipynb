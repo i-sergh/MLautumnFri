{
 "cells": [
  {
   "cell_type": "code",
   "execution_count": 118,
   "id": "00462aef",
   "metadata": {},
   "outputs": [],
   "source": [
    "\n",
    "X = (0.1, 0.3, 0.8)\n",
    "y = -1\n",
    "\n",
    "w = [ 0.1, 0.7, -0.1 ]\n"
   ]
  },
  {
   "cell_type": "code",
   "execution_count": 119,
   "id": "1f85be7d",
   "metadata": {},
   "outputs": [],
   "source": [
    "def net_input(X, w):\n",
    "    summ = 0\n",
    "    for i in range(3):\n",
    "        summ += X[i] *w[i]\n",
    "    \n",
    "    return summ"
   ]
  },
  {
   "cell_type": "code",
   "execution_count": 120,
   "id": "698a263c",
   "metadata": {},
   "outputs": [
    {
     "data": {
      "text/plain": [
       "0.13999999999999999"
      ]
     },
     "execution_count": 120,
     "metadata": {},
     "output_type": "execute_result"
    }
   ],
   "source": [
    "net_input (X, w)"
   ]
  },
  {
   "cell_type": "code",
   "execution_count": 121,
   "id": "4d74646b",
   "metadata": {},
   "outputs": [],
   "source": [
    "def predict(X):\n",
    "    if net_input(X, w) >= 0:\n",
    "        return 1\n",
    "    else:\n",
    "        return -1\n",
    "    "
   ]
  },
  {
   "cell_type": "code",
   "execution_count": 126,
   "id": "e52c4831",
   "metadata": {},
   "outputs": [
    {
     "data": {
      "text/plain": [
       "True"
      ]
     },
     "execution_count": 126,
     "metadata": {},
     "output_type": "execute_result"
    }
   ],
   "source": [
    "# если false нужно учить\n",
    "predict(X) == y"
   ]
  },
  {
   "cell_type": "code",
   "execution_count": 127,
   "id": "6da47ff6",
   "metadata": {},
   "outputs": [],
   "source": [
    "eta = 0.2 \n",
    "update = eta * (y - predict(X) )"
   ]
  },
  {
   "cell_type": "code",
   "execution_count": 128,
   "id": "830b7fca",
   "metadata": {},
   "outputs": [
    {
     "data": {
      "text/plain": [
       "0.0"
      ]
     },
     "execution_count": 128,
     "metadata": {},
     "output_type": "execute_result"
    }
   ],
   "source": [
    "update"
   ]
  },
  {
   "cell_type": "code",
   "execution_count": 129,
   "id": "10c039a0",
   "metadata": {},
   "outputs": [
    {
     "data": {
      "text/plain": [
       "[0.06, 0.58, -0.42000000000000004]"
      ]
     },
     "execution_count": 129,
     "metadata": {},
     "output_type": "execute_result"
    }
   ],
   "source": [
    "for i in range(3):\n",
    "    w[i] += update * X[i] \n",
    "\n",
    "w"
   ]
  },
  {
   "cell_type": "code",
   "execution_count": null,
   "id": "392e11d1",
   "metadata": {},
   "outputs": [],
   "source": []
  },
  {
   "cell_type": "code",
   "execution_count": null,
   "id": "3fe4cdbd",
   "metadata": {},
   "outputs": [],
   "source": []
  }
 ],
 "metadata": {
  "kernelspec": {
   "display_name": "Python 3 (ipykernel)",
   "language": "python",
   "name": "python3"
  },
  "language_info": {
   "codemirror_mode": {
    "name": "ipython",
    "version": 3
   },
   "file_extension": ".py",
   "mimetype": "text/x-python",
   "name": "python",
   "nbconvert_exporter": "python",
   "pygments_lexer": "ipython3",
   "version": "3.10.2"
  }
 },
 "nbformat": 4,
 "nbformat_minor": 5
}
