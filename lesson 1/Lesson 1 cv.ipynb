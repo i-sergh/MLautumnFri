{
 "cells": [
  {
   "cell_type": "markdown",
   "id": "e49c124e",
   "metadata": {},
   "source": [
    "# Компьютерное зрение и массивы"
   ]
  },
  {
   "cell_type": "code",
   "execution_count": 54,
   "id": "bff66243",
   "metadata": {},
   "outputs": [],
   "source": [
    "import cv2 # библиотека компьютерного зрения\n",
    "import numpy as np # добавляет массивы \n",
    "from random import choice, randint"
   ]
  },
  {
   "cell_type": "code",
   "execution_count": 2,
   "id": "fb0c2850",
   "metadata": {},
   "outputs": [],
   "source": [
    "cap = cv2.VideoCapture( 0 )"
   ]
  },
  {
   "cell_type": "code",
   "execution_count": 35,
   "id": "21804de2",
   "metadata": {},
   "outputs": [],
   "source": []
  },
  {
   "cell_type": "code",
   "execution_count": 55,
   "id": "7e0ffdb9",
   "metadata": {},
   "outputs": [
    {
     "data": {
      "text/plain": [
       "(480, 640, 3)"
      ]
     },
     "execution_count": 55,
     "metadata": {},
     "output_type": "execute_result"
    }
   ],
   "source": [
    "x = 10\n",
    "y = 20\n",
    "dx = 1\n",
    "dy = 2\n",
    "color = (0,255,0)\n",
    "bcolor = 0\n",
    "choice_color = [(255,0,0), (0,255,0), (0,0,255)]\n",
    "while True:\n",
    "    tr, frame = cap.read()\n",
    "    frame[:, 320:, :2] = cv2.flip(frame[:, :320, :2],3)\n",
    "    \n",
    "    frame[y:y+200, x:x+100, bcolor] = 255\n",
    "    cv2.putText(frame, 'DVD', (x+20,y+50),\n",
    "                cv2.FONT_HERSHEY_SCRIPT_SIMPLEX,\n",
    "                1, color, 2, cv2.LINE_AA\n",
    "               )\n",
    "    \n",
    "    if x + dx+100 >= 640 or x + dx <= 0:\n",
    "        dx = -dx\n",
    "        color = choice(choice_color)\n",
    "        bcolor = randint(0,2)\n",
    "    if y + dy+200 >= 480 or y + dy <= 0:\n",
    "        dy = -dy\n",
    "        color = choice(choice_color)\n",
    "        bcolor = randint(0,2)\n",
    "    x += dx\n",
    "    y += dy\n",
    "    cv2.imshow('Kak ugodno', frame  )\n",
    "    \n",
    "    key = cv2.waitKey(1)\n",
    "    if key == 27:\n",
    "        break\n",
    "cv2.destroyAllWindows()\n",
    "frame.shape"
   ]
  },
  {
   "cell_type": "code",
   "execution_count": 56,
   "id": "abb77ce1",
   "metadata": {},
   "outputs": [],
   "source": [
    "cap.release()"
   ]
  },
  {
   "cell_type": "code",
   "execution_count": null,
   "id": "64023b9b",
   "metadata": {},
   "outputs": [],
   "source": []
  },
  {
   "cell_type": "code",
   "execution_count": null,
   "id": "792fd80c",
   "metadata": {},
   "outputs": [],
   "source": []
  },
  {
   "cell_type": "code",
   "execution_count": null,
   "id": "078a7053",
   "metadata": {},
   "outputs": [],
   "source": []
  },
  {
   "cell_type": "code",
   "execution_count": null,
   "id": "01a75b5b",
   "metadata": {},
   "outputs": [],
   "source": []
  },
  {
   "cell_type": "code",
   "execution_count": null,
   "id": "5777c3db",
   "metadata": {},
   "outputs": [],
   "source": []
  },
  {
   "cell_type": "code",
   "execution_count": null,
   "id": "1e4daa30",
   "metadata": {},
   "outputs": [],
   "source": []
  },
  {
   "cell_type": "code",
   "execution_count": null,
   "id": "7278fb84",
   "metadata": {},
   "outputs": [],
   "source": []
  },
  {
   "cell_type": "code",
   "execution_count": null,
   "id": "c5bb70f1",
   "metadata": {},
   "outputs": [],
   "source": []
  },
  {
   "cell_type": "code",
   "execution_count": null,
   "id": "b8d27830",
   "metadata": {},
   "outputs": [],
   "source": []
  },
  {
   "cell_type": "code",
   "execution_count": null,
   "id": "f475dd94",
   "metadata": {},
   "outputs": [],
   "source": []
  },
  {
   "cell_type": "code",
   "execution_count": null,
   "id": "6568e57f",
   "metadata": {},
   "outputs": [],
   "source": []
  }
 ],
 "metadata": {
  "kernelspec": {
   "display_name": "Python 3 (ipykernel)",
   "language": "python",
   "name": "python3"
  },
  "language_info": {
   "codemirror_mode": {
    "name": "ipython",
    "version": 3
   },
   "file_extension": ".py",
   "mimetype": "text/x-python",
   "name": "python",
   "nbconvert_exporter": "python",
   "pygments_lexer": "ipython3",
   "version": "3.10.2"
  }
 },
 "nbformat": 4,
 "nbformat_minor": 5
}
