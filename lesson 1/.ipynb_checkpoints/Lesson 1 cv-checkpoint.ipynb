{
 "cells": [
  {
   "cell_type": "markdown",
   "id": "76ff0dd5",
   "metadata": {},
   "source": [
    "# Компьютерное зрение и массивы"
   ]
  },
  {
   "cell_type": "code",
   "execution_count": 1,
   "id": "6bd65e06",
   "metadata": {},
   "outputs": [],
   "source": [
    "import cv2 # библиотека компьютерного зрения\n",
    "import numpy as np # добавляет массивы "
   ]
  },
  {
   "cell_type": "code",
   "execution_count": 2,
   "id": "b6222127",
   "metadata": {},
   "outputs": [],
   "source": [
    "cap = cv2.VideoCapture( 0 )"
   ]
  },
  {
   "cell_type": "code",
   "execution_count": 35,
   "id": "d26047e2",
   "metadata": {},
   "outputs": [],
   "source": []
  },
  {
   "cell_type": "code",
   "execution_count": 42,
   "id": "2b297104",
   "metadata": {},
   "outputs": [
    {
     "data": {
      "text/plain": [
       "(480, 640, 3)"
      ]
     },
     "execution_count": 42,
     "metadata": {},
     "output_type": "execute_result"
    }
   ],
   "source": [
    "x = 10\n",
    "y = 20\n",
    "dx = 1\n",
    "dy = 2\n",
    "while True:\n",
    "    tr, frame = cap.read()\n",
    "    frame[:, 320:, :2] = cv2.flip(frame[:, :320, :2],3)\n",
    "    \n",
    "    frame[y:y+100, x:x+100, 0] = 255\n",
    "    \n",
    "    #if x + dx >= 640 or x + dx <= 0:\n",
    "    #    dx = -dx\n",
    "    #if y + dy >= 480 or y + dy <= 0:\n",
    "    #    dy = -dy\n",
    "        \n",
    "    #x += dx\n",
    "    #y += dy\n",
    "    cv2.imshow('Kak ugodno', frame  )\n",
    "    \n",
    "    key = cv2.waitKey(1)\n",
    "    if key == 27:\n",
    "        break\n",
    "cv2.destroyAllWindows()\n",
    "frame.shape"
   ]
  },
  {
   "cell_type": "code",
   "execution_count": null,
   "id": "b0e23564",
   "metadata": {},
   "outputs": [],
   "source": []
  },
  {
   "cell_type": "code",
   "execution_count": null,
   "id": "3aab7508",
   "metadata": {},
   "outputs": [],
   "source": []
  },
  {
   "cell_type": "code",
   "execution_count": null,
   "id": "db7a147f",
   "metadata": {},
   "outputs": [],
   "source": []
  },
  {
   "cell_type": "code",
   "execution_count": null,
   "id": "cee734ff",
   "metadata": {},
   "outputs": [],
   "source": []
  },
  {
   "cell_type": "code",
   "execution_count": null,
   "id": "c3dfa703",
   "metadata": {},
   "outputs": [],
   "source": []
  },
  {
   "cell_type": "code",
   "execution_count": null,
   "id": "f0432dc0",
   "metadata": {},
   "outputs": [],
   "source": []
  },
  {
   "cell_type": "code",
   "execution_count": null,
   "id": "a2fc966c",
   "metadata": {},
   "outputs": [],
   "source": []
  },
  {
   "cell_type": "code",
   "execution_count": null,
   "id": "1362ea76",
   "metadata": {},
   "outputs": [],
   "source": []
  },
  {
   "cell_type": "code",
   "execution_count": null,
   "id": "0dff22a1",
   "metadata": {},
   "outputs": [],
   "source": []
  },
  {
   "cell_type": "code",
   "execution_count": null,
   "id": "470f6f4c",
   "metadata": {},
   "outputs": [],
   "source": []
  },
  {
   "cell_type": "code",
   "execution_count": null,
   "id": "bfd7265e",
   "metadata": {},
   "outputs": [],
   "source": []
  },
  {
   "cell_type": "code",
   "execution_count": null,
   "id": "daef1caa",
   "metadata": {},
   "outputs": [],
   "source": []
  }
 ],
 "metadata": {
  "kernelspec": {
   "display_name": "Python 3 (ipykernel)",
   "language": "python",
   "name": "python3"
  },
  "language_info": {
   "codemirror_mode": {
    "name": "ipython",
    "version": 3
   },
   "file_extension": ".py",
   "mimetype": "text/x-python",
   "name": "python",
   "nbconvert_exporter": "python",
   "pygments_lexer": "ipython3",
   "version": "3.10.2"
  }
 },
 "nbformat": 4,
 "nbformat_minor": 5
}
