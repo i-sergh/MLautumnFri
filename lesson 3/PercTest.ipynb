{
 "cells": [
  {
   "cell_type": "code",
   "execution_count": 3,
   "id": "2d9e79ae",
   "metadata": {},
   "outputs": [],
   "source": [
    "import numpy as np\n",
    "from random import randint\n",
    "\n",
    "import cv2\n",
    "\n",
    "from matplotlib import pyplot as plt"
   ]
  },
  {
   "cell_type": "code",
   "execution_count": 4,
   "id": "3446d556",
   "metadata": {},
   "outputs": [],
   "source": [
    "class Perceptron:\n",
    "    def __init__ (self, eta, n_iter, random_state):\n",
    "        self.eta = eta\n",
    "        self.n_iter = n_iter\n",
    "        self.random_state = random_state\n",
    "    \n",
    "    def fit(self, X, y):\n",
    "        rgen = np.random.RandomState(self.random_state)\n",
    "        self.w = rgen.normal(loc=0.0, scale=0.01, size=1 + X.shape[1] )\n",
    "        \n",
    "        for _ in range(self.n_iter):\n",
    "            \n",
    "            for xi, target in zip(X, y):\n",
    "                update = self.eta * ( target - self.predict(xi) )\n",
    "                self.w[1:] += update * xi\n",
    "                self.w[0] += update \n",
    "        \n",
    "    def net_input(self, X):\n",
    "        return np.dot(X, self.w[1:]) + self.w[0]\n",
    "    \n",
    "    def predict(self, X):\n",
    "        return np.where(self.net_input(X) >= 0.0, 1, -1 )"
   ]
  },
  {
   "cell_type": "markdown",
   "id": "e8ba2bfd",
   "metadata": {},
   "source": [
    "## Нам нужны СЕЛФИ!"
   ]
  },
  {
   "cell_type": "code",
   "execution_count": 78,
   "id": "72704404",
   "metadata": {},
   "outputs": [],
   "source": [
    "cap = cv2.VideoCapture(0) # получаем доступ к камере\n",
    "\n",
    "tr, frame = cap.read() # чтение изображения\n",
    "\n",
    "cv2.imshow('lubaya stroka', frame)\n",
    "cv2.waitKey(0)\n",
    "cap.release()\n",
    "cv2.destroyAllWindows()"
   ]
  },
  {
   "cell_type": "code",
   "execution_count": 8,
   "id": "b2c9c75c",
   "metadata": {},
   "outputs": [
    {
     "data": {
      "text/plain": [
       "True"
      ]
     },
     "execution_count": 8,
     "metadata": {},
     "output_type": "execute_result"
    }
   ],
   "source": [
    "# сохранение изо\n",
    "cv2.imwrite('frame.jpg', frame)"
   ]
  },
  {
   "attachments": {},
   "cell_type": "markdown",
   "id": "cbe7e6f8",
   "metadata": {},
   "source": [
    "## Теперь ищем цвет\n",
    "<img src=\"https://lh5.googleusercontent.com/S0X5X-e77KheGDKLWA4efrhDdYqb6S_p2gdmBl3HcMo3bB-mGfnmwIMF6Z_h2BPEc5iVRu3l8CbCND7o9kg2kVp6lERqDNkQf8Z6gL6Dvta7NmksdmOpousUtzimoxkekqrODBfJwye3Qzg3pPjiRiLwo72VnyzbDBLRCfcOFdFeGwros7goMaxy5lKOz7hjSy3Ctg=s2048\">"
   ]
  },
  {
   "cell_type": "code",
   "execution_count": 79,
   "id": "008e6606",
   "metadata": {},
   "outputs": [],
   "source": [
    "frame_hsv = cv2.cvtColor(frame, cv2.COLOR_BGR2HSV) # конвертим в удобный hsv "
   ]
  },
  {
   "cell_type": "markdown",
   "id": "1be6e89c",
   "metadata": {},
   "source": [
    "#### Если вам интересно посмотреть \n",
    "Но это не обязательный шаг"
   ]
  },
  {
   "cell_type": "code",
   "execution_count": 12,
   "id": "68ad69ee",
   "metadata": {},
   "outputs": [],
   "source": [
    "cv2.imshow('lubaya stroka', frame_hsv)\n",
    "cv2.waitKey(0)\n",
    "cap.release()\n",
    "cv2.destroyAllWindows()"
   ]
  },
  {
   "cell_type": "markdown",
   "id": "1a04b538",
   "metadata": {},
   "source": [
    "#### Находим цвет по порогам (промежуткам цветов)"
   ]
  },
  {
   "cell_type": "code",
   "execution_count": 84,
   "id": "6ceef9b2",
   "metadata": {},
   "outputs": [],
   "source": [
    "low = (0, 130, 140)\n",
    "high = (15, 255 ,255)\n",
    "\n",
    "mask = cv2.inRange(frame_hsv, low, high)"
   ]
  },
  {
   "cell_type": "markdown",
   "id": "ede9711f",
   "metadata": {},
   "source": [
    "#### Посмотрим на маску цвета"
   ]
  },
  {
   "cell_type": "code",
   "execution_count": 85,
   "id": "fa39e2b3",
   "metadata": {},
   "outputs": [],
   "source": [
    "cv2.imshow('lubaya stroka', mask)\n",
    "cv2.waitKey(0)\n",
    "cap.release()\n",
    "cv2.destroyAllWindows()"
   ]
  },
  {
   "cell_type": "markdown",
   "id": "8540ba24",
   "metadata": {},
   "source": [
    "## Что же будем подавать на вход?\n",
    "\n",
    "В качестве образцов будут пиксели изо\n",
    "\n",
    "А метки для обучения это пиксели маски"
   ]
  },
  {
   "cell_type": "code",
   "execution_count": 86,
   "id": "d3872c1f",
   "metadata": {},
   "outputs": [],
   "source": [
    "# получим метки классов\n",
    "y = np.ravel(mask)\n"
   ]
  },
  {
   "cell_type": "code",
   "execution_count": 87,
   "id": "a1457d3f",
   "metadata": {},
   "outputs": [
    {
     "data": {
      "text/plain": [
       "array([[ 80., 108., 132.],\n",
       "       [ 79., 106., 130.],\n",
       "       [ 79., 106., 130.],\n",
       "       ...,\n",
       "       [ 77.,  99., 107.],\n",
       "       [ 77., 100., 108.],\n",
       "       [ 76.,  99., 107.]])"
      ]
     },
     "execution_count": 87,
     "metadata": {},
     "output_type": "execute_result"
    }
   ],
   "source": [
    "X = np.zeros( (y.shape[0], 3) ).T\n",
    "X[0] = np.ravel(frame[:,:,0])\n",
    "X[1] = np.ravel(frame[:,:,1])\n",
    "X[2] = np.ravel(frame[:,:,2])\n",
    "X = X.T\n",
    "X"
   ]
  },
  {
   "cell_type": "code",
   "execution_count": 88,
   "id": "f3b16814",
   "metadata": {},
   "outputs": [],
   "source": [
    "ppn = Perceptron(0.1, 50, 1)"
   ]
  },
  {
   "cell_type": "code",
   "execution_count": 89,
   "id": "db35fd8e",
   "metadata": {},
   "outputs": [],
   "source": [
    "ppn.fit(X, y)"
   ]
  },
  {
   "cell_type": "code",
   "execution_count": 90,
   "id": "4370c7cd",
   "metadata": {},
   "outputs": [],
   "source": [
    "y_ = ppn.predict(X)\n",
    "y_ = np.uint8(y_)\n",
    "y_ = np.reshape(y_, (frame.shape[0], frame.shape[1]) )\n",
    "\n",
    "cv2.imshow('lubaya stroka', y_)\n",
    "cv2.waitKey(0)\n",
    "cap.release()\n",
    "cv2.destroyAllWindows()"
   ]
  },
  {
   "cell_type": "code",
   "execution_count": 74,
   "id": "e14f5c5a",
   "metadata": {},
   "outputs": [],
   "source": [
    "def for_pers_learn(img):\n",
    "    X = np.zeros( (y.shape[0], 3) ).T\n",
    "    X[0] = np.ravel(img[:,:,0])\n",
    "    X[1] = np.ravel(img[:,:,1])\n",
    "    X[2] = np.ravel(img[:,:,2])\n",
    "    X = X.T\n",
    "    return X"
   ]
  },
  {
   "cell_type": "code",
   "execution_count": null,
   "id": "2c469870",
   "metadata": {},
   "outputs": [],
   "source": [
    "def prediction (img):\n",
    "    y_ = ppn.predict(img)\n",
    "    y_ = np.uint8(y_)\n",
    "    y_ = np.reshape(y_, (img.shape[0], img.shape[1]) )\n",
    "    return y_"
   ]
  }
 ],
 "metadata": {
  "kernelspec": {
   "display_name": "Python 3 (ipykernel)",
   "language": "python",
   "name": "python3"
  },
  "language_info": {
   "codemirror_mode": {
    "name": "ipython",
    "version": 3
   },
   "file_extension": ".py",
   "mimetype": "text/x-python",
   "name": "python",
   "nbconvert_exporter": "python",
   "pygments_lexer": "ipython3",
   "version": "3.10.2"
  }
 },
 "nbformat": 4,
 "nbformat_minor": 5
}
