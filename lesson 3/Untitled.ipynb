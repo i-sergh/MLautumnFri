{
 "cells": [
  {
   "cell_type": "code",
   "execution_count": 4,
   "id": "cec28bf4",
   "metadata": {},
   "outputs": [],
   "source": [
    "import numpy as np"
   ]
  },
  {
   "cell_type": "code",
   "execution_count": 38,
   "id": "c9731dcb",
   "metadata": {},
   "outputs": [],
   "source": [
    "class Perceptron:\n",
    "    def __init__(self, epoch, eta, rnd):\n",
    "        self.epoch = epoch\n",
    "        self.eta = eta\n",
    "        self.rnd = rnd\n",
    "    \n",
    "    def fit (self, X, y):\n",
    "        rgen = np.random.RandomState(self.rnd)\n",
    "        self.w = rgen.normal(loc=0.0, \n",
    "                             scale=0.01,\n",
    "                            size=X.shape[1] )\n",
    "        \n",
    "        for _ in range(self.epoch):\n",
    "            for xi, yi in zip(X, y):\n",
    "                update = (yi - self.predict(xi)) * self.eta\n",
    "                self.w += update * xi\n",
    "                \n",
    "    def net_input(self, X):\n",
    "        return np.dot(X, self.w)\n",
    "    \n",
    "    def predict(self, X):\n",
    "        return np.where(self.net_input(X)>=0, -1, 1)"
   ]
  },
  {
   "cell_type": "code",
   "execution_count": 39,
   "id": "685dd412",
   "metadata": {},
   "outputs": [],
   "source": [
    "ppn = Perceptron(10, 0.01, 1)"
   ]
  },
  {
   "cell_type": "code",
   "execution_count": 40,
   "id": "d1a82226",
   "metadata": {},
   "outputs": [],
   "source": [
    "ppn.fit(\n",
    "np.array([[0,1],[1, 2],[5, 4],[6,7]]),\n",
    "    \n",
    "np.array([1,1,-1,-1])\n",
    ")\n"
   ]
  },
  {
   "cell_type": "code",
   "execution_count": 41,
   "id": "900a725d",
   "metadata": {},
   "outputs": [
    {
     "data": {
      "text/plain": [
       "array(-1)"
      ]
     },
     "execution_count": 41,
     "metadata": {},
     "output_type": "execute_result"
    }
   ],
   "source": [
    "ppn.predict([9, 10])"
   ]
  },
  {
   "cell_type": "code",
   "execution_count": 23,
   "id": "6a0eb7e6",
   "metadata": {},
   "outputs": [
    {
     "data": {
      "text/plain": [
       "'dsa'"
      ]
     },
     "execution_count": 23,
     "metadata": {},
     "output_type": "execute_result"
    }
   ],
   "source": [
    "[\n",
    "    [][][]\n",
    "]"
   ]
  },
  {
   "cell_type": "code",
   "execution_count": 26,
   "id": "debe7108",
   "metadata": {},
   "outputs": [
    {
     "data": {
      "text/plain": [
       "'numpy'"
      ]
     },
     "execution_count": 26,
     "metadata": {},
     "output_type": "execute_result"
    }
   ],
   "source": []
  },
  {
   "cell_type": "code",
   "execution_count": null,
   "id": "ad38c808",
   "metadata": {},
   "outputs": [],
   "source": []
  }
 ],
 "metadata": {
  "kernelspec": {
   "display_name": "Python 3 (ipykernel)",
   "language": "python",
   "name": "python3"
  },
  "language_info": {
   "codemirror_mode": {
    "name": "ipython",
    "version": 3
   },
   "file_extension": ".py",
   "mimetype": "text/x-python",
   "name": "python",
   "nbconvert_exporter": "python",
   "pygments_lexer": "ipython3",
   "version": "3.10.2"
  }
 },
 "nbformat": 4,
 "nbformat_minor": 5
}
