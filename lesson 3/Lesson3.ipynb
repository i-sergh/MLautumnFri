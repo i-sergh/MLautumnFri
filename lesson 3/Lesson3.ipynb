{
 "cells": [
  {
   "cell_type": "code",
   "execution_count": 2,
   "id": "8948ed75",
   "metadata": {},
   "outputs": [],
   "source": [
    "X = [ 0.1, 0.8, 0.5 ] \n",
    "y = 1"
   ]
  },
  {
   "cell_type": "code",
   "execution_count": 3,
   "id": "639b7d1c",
   "metadata": {},
   "outputs": [],
   "source": [
    "w = [ 0.4, -0.8, 0.9 ]"
   ]
  },
  {
   "cell_type": "code",
   "execution_count": 4,
   "id": "be966102",
   "metadata": {},
   "outputs": [],
   "source": [
    "def net_input(X, w):\n",
    "    summ = 0\n",
    "    for i in range( len(X) ):\n",
    "        summ += w[i] * X[i]\n",
    "    \n",
    "    return summ\n"
   ]
  },
  {
   "cell_type": "code",
   "execution_count": 5,
   "id": "86c62b31",
   "metadata": {},
   "outputs": [
    {
     "data": {
      "text/plain": [
       "-0.15000000000000008"
      ]
     },
     "execution_count": 5,
     "metadata": {},
     "output_type": "execute_result"
    }
   ],
   "source": [
    "net_input(X, w)"
   ]
  },
  {
   "cell_type": "code",
   "execution_count": 6,
   "id": "d28328d0",
   "metadata": {},
   "outputs": [],
   "source": [
    "def predict (X, w):\n",
    "    if net_input(X, w) >= 0:\n",
    "        return 1\n",
    "    else:\n",
    "        return -1\n",
    "    "
   ]
  },
  {
   "cell_type": "code",
   "execution_count": 7,
   "id": "493e710f",
   "metadata": {},
   "outputs": [
    {
     "data": {
      "text/plain": [
       "-1"
      ]
     },
     "execution_count": 7,
     "metadata": {},
     "output_type": "execute_result"
    }
   ],
   "source": [
    "predict (X, w)"
   ]
  },
  {
   "cell_type": "code",
   "execution_count": 8,
   "id": "301d6e96",
   "metadata": {
    "scrolled": true
   },
   "outputs": [
    {
     "data": {
      "text/plain": [
       "False"
      ]
     },
     "execution_count": 8,
     "metadata": {},
     "output_type": "execute_result"
    }
   ],
   "source": [
    "predict (X, w) == y"
   ]
  },
  {
   "cell_type": "code",
   "execution_count": 9,
   "id": "57be7928",
   "metadata": {},
   "outputs": [],
   "source": [
    "def learn(X, w, y):\n",
    "    eta = 0.1\n",
    "    y_ = predict (X, w)\n",
    "    for i in range( len(X) ):\n",
    "        w[i] += eta * (y - y_ ) * X [i] "
   ]
  },
  {
   "cell_type": "code",
   "execution_count": 10,
   "id": "aef28fde",
   "metadata": {},
   "outputs": [
    {
     "data": {
      "text/plain": [
       "[0.42000000000000004, -0.64, 1.0]"
      ]
     },
     "execution_count": 10,
     "metadata": {},
     "output_type": "execute_result"
    }
   ],
   "source": [
    "learn(X, w, y)\n",
    "w"
   ]
  },
  {
   "cell_type": "code",
   "execution_count": 11,
   "id": "5ffde396",
   "metadata": {},
   "outputs": [],
   "source": [
    "X1 = [ 0.9, 0.1, 0.5 ] \n",
    "y1 = -1"
   ]
  },
  {
   "cell_type": "code",
   "execution_count": 12,
   "id": "dee415ee",
   "metadata": {},
   "outputs": [
    {
     "data": {
      "text/plain": [
       "1"
      ]
     },
     "execution_count": 12,
     "metadata": {},
     "output_type": "execute_result"
    }
   ],
   "source": [
    "predict (X1, w)"
   ]
  },
  {
   "cell_type": "code",
   "execution_count": 13,
   "id": "3e83a207",
   "metadata": {},
   "outputs": [
    {
     "data": {
      "text/plain": [
       "[0.24000000000000002, -0.66, 0.9]"
      ]
     },
     "execution_count": 13,
     "metadata": {},
     "output_type": "execute_result"
    }
   ],
   "source": [
    "learn(X1, w, y1)\n",
    "w"
   ]
  },
  {
   "cell_type": "code",
   "execution_count": 22,
   "id": "f720e343",
   "metadata": {},
   "outputs": [],
   "source": [
    "from matplotlib import pyplot as plt\n",
    "\n",
    "from math import sin, pi\n",
    "import numpy as np\n"
   ]
  },
  {
   "cell_type": "code",
   "execution_count": 40,
   "id": "604ddab2",
   "metadata": {},
   "outputs": [
    {
     "data": {
      "text/plain": [
       "[<matplotlib.lines.Line2D at 0x278f1cbec20>]"
      ]
     },
     "execution_count": 40,
     "metadata": {},
     "output_type": "execute_result"
    },
    {
     "data": {
      "image/png": "[encoded data removed]",
      "text/plain": [
       "<Figure size 432x288 with 1 Axes>"
      ]
     },
     "metadata": {
      "needs_background": "light"
     },
     "output_type": "display_data"
    }
   ],
   "source": [
    "x = [1, 2, 3, 4, 5, 6, 7]\n",
    "y = [1, 4, 9, 16, 25, 36, 49]\n",
    "\n",
    "x1 = np.arange( 0, 2*pi, pi/4096 )\n",
    "y1 = [sin(i) for i in x1 ]\n",
    "\n",
    "x2 = [-7,-6,-5,-4,-3,-2, -1, -0.5,-0.3,0.1, 0.1, 0.3, 0.5, 1, 2, 3, 4, 5, 6, 7]\n",
    "y2 = [1/i for i in x2 ]\n",
    "\n",
    "x3 = [1 , 6, 7, 4, 2, 8, 43, 6, 0 ]\n",
    "y3 = [-1, 8 ,4, 3,5 ,9 , 0 , -10, 18 ]\n",
    "#plt.plot(x, y, marker='o')\n",
    "plt.plot(x1, y1, marker='x')\n",
    "plt.plot(x2, y2, marker='+', color='pink')\n",
    "plt.plot(x3, y3, marker='*', color='tomato')"
   ]
  },
  {
   "cell_type": "code",
   "execution_count": 39,
   "id": "7d51c660",
   "metadata": {},
   "outputs": [
    {
     "data": {
      "text/plain": [
       "<matplotlib.collections.PathCollection at 0x278f1da2920>"
      ]
     },
     "execution_count": 39,
     "metadata": {},
     "output_type": "execute_result"
    },
    {
     "data": {
      "image/png": "[encoded data removed]",
      "text/plain": [
       "<Figure size 432x288 with 1 Axes>"
      ]
     },
     "metadata": {
      "needs_background": "light"
     },
     "output_type": "display_data"
    }
   ],
   "source": [
    "x3 = [1 , 6, 7, 4, 2, 8, 43, 6, 0 ]\n",
    "y3 = [-1, 8 ,4, 3,5 ,9 , 0 , -10, 18 ]\n",
    "\n",
    "x4 = [20 , 60, 25, 48, 27, 43, 43, 45, 10 ]\n",
    "y4 = [45, 65 ,34, 83,35 ,59 , 40 , 10, 18 ]\n",
    "plt.scatter(x3, y3, marker='*', color='tomato')\n",
    "plt.scatter(x4, y4, marker='*', color='darkgreen')"
   ]
  },
  {
   "cell_type": "code",
   "execution_count": null,
   "id": "d0d3163e",
   "metadata": {},
   "outputs": [],
   "source": []
  }
 ],
 "metadata": {
  "kernelspec": {
   "display_name": "Python 3 (ipykernel)",
   "language": "python",
   "name": "python3"
  },
  "language_info": {
   "codemirror_mode": {
    "name": "ipython",
    "version": 3
   },
   "file_extension": ".py",
   "mimetype": "text/x-python",
   "name": "python",
   "nbconvert_exporter": "python",
   "pygments_lexer": "ipython3",
   "version": "3.10.2"
  }
 },
 "nbformat": 4,
 "nbformat_minor": 5
}
