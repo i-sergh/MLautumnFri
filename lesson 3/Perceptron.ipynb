{
 "cells": [
  {
   "cell_type": "code",
   "execution_count": 1,
   "id": "cd6324ee",
   "metadata": {},
   "outputs": [],
   "source": [
    "import numpy as np"
   ]
  },
  {
   "cell_type": "code",
   "execution_count": 30,
   "id": "64f32760",
   "metadata": {},
   "outputs": [],
   "source": [
    "class Perceptron:\n",
    "    def __init__ (self, eta, n_iter, rnd=1):\n",
    "        self.eta = eta\n",
    "        self.n_iter = n_iter\n",
    "        self.rnd = rnd\n",
    "    \n",
    "    def net_input(self, X):\n",
    "        return np.dot( X, self.w )\n",
    "    \n",
    "    def fit(self, X, y):\n",
    "        rgen = np.random.RandomState(self.rnd)\n",
    "        \n",
    "        self.w = rgen.normal(loc=0.0, scale=0.01, size=X.shape[1])\n",
    "        for _ in range(self.n_iter):\n",
    "            for xi, target in zip(X,y):\n",
    "                uprgade = self.eta * ( target - self.predict(X) )\n",
    "                self.w += uprgade * xi \n",
    "                \n",
    "    def predict(self, X):\n",
    "        return np.where( self.net_input(X) >= 0, 1, -1 )"
   ]
  },
  {
   "cell_type": "code",
   "execution_count": 31,
   "id": "48780c9a",
   "metadata": {},
   "outputs": [],
   "source": [
    "pers1 = Perceptron(0.1, 50, 1)"
   ]
  },
  {
   "cell_type": "code",
   "execution_count": 32,
   "id": "9ac2fdc8",
   "metadata": {},
   "outputs": [],
   "source": [
    "pers1.fit(np.array( [[1,2,3], [2,4,6], [3,5,7]] ),np.array( (1,2,3)) )"
   ]
  },
  {
   "cell_type": "code",
   "execution_count": 15,
   "id": "ebcc3e51",
   "metadata": {},
   "outputs": [
    {
     "data": {
      "text/plain": [
       "array([ 0.01624345, -0.00611756, -0.00528172])"
      ]
     },
     "execution_count": 15,
     "metadata": {},
     "output_type": "execute_result"
    }
   ],
   "source": [
    "pers1.w"
   ]
  },
  {
   "cell_type": "code",
   "execution_count": 12,
   "id": "494b1d62",
   "metadata": {},
   "outputs": [],
   "source": [
    "pers2 = Perceptron(0.1, 50, 17)"
   ]
  },
  {
   "cell_type": "code",
   "execution_count": 14,
   "id": "7fba1fb4",
   "metadata": {},
   "outputs": [
    {
     "data": {
      "text/plain": [
       "array([ 0.00276266, -0.01854628,  0.00623901])"
      ]
     },
     "execution_count": 14,
     "metadata": {},
     "output_type": "execute_result"
    }
   ],
   "source": [
    "pers2.fit(np.array( [[1,2,3], [2,4,6], [3,5,7]] ),  1 )\n",
    "pers2.w"
   ]
  },
  {
   "cell_type": "code",
   "execution_count": 41,
   "id": "a0b1459c",
   "metadata": {
    "collapsed": true
   },
   "outputs": [
    {
     "data": {
      "text/plain": [
       "array([[  1.,  -1.],\n",
       "       [  6.,   8.],\n",
       "       [  7.,   4.],\n",
       "       [  4.,   3.],\n",
       "       [  2.,   5.],\n",
       "       [  8.,   9.],\n",
       "       [ 43.,   0.],\n",
       "       [  6., -10.],\n",
       "       [  0.,  18.],\n",
       "       [ 20.,  45.],\n",
       "       [ 60.,  65.],\n",
       "       [ 25.,  34.],\n",
       "       [ 48.,  83.],\n",
       "       [ 27.,  35.],\n",
       "       [ 43.,  59.],\n",
       "       [ 43.,  40.],\n",
       "       [ 45.,  10.],\n",
       "       [ 10.,  18.]])"
      ]
     },
     "execution_count": 41,
     "metadata": {},
     "output_type": "execute_result"
    }
   ],
   "source": [
    "x3 = [1 , 6, 7, 4, 2, 8, 43, 6, 0 ]\n",
    "y3 = [-1, 8 ,4, 3,5 ,9 , 0 , -10, 18 ]\n",
    "\n",
    "x4 = [20 , 60, 25, 48, 27, 43, 43, 45, 10 ]\n",
    "y4 = [45, 65 ,34, 83,35 ,59 , 40 , 10, 18 ]\n",
    "\n",
    "X1 = np.array((x3, y3) )\n",
    "X2 = np.array((x4, y4) )\n",
    "\n",
    "y = np.ones( (18) )\n",
    "y[9:] *= (-1)\n",
    "\n",
    "\n",
    "X = np.zeros( (18, 2) )\n",
    "X[:9] = X1.T\n",
    "X[9:] = X2.T\n"
   ]
  },
  {
   "cell_type": "code",
   "execution_count": 42,
   "id": "ac5d0506",
   "metadata": {},
   "outputs": [],
   "source": [
    "pers = Perceptron(0.1 ,50,1)"
   ]
  },
  {
   "cell_type": "code",
   "execution_count": 45,
   "id": "8491d8e9",
   "metadata": {},
   "outputs": [
    {
     "ename": "ValueError",
     "evalue": "shapes (2,18) and (2,) not aligned: 18 (dim 1) != 2 (dim 0)",
     "output_type": "error",
     "traceback": [
      "\u001b[1;31m--------------------------------------------------------\u001b[0m",
      "\u001b[1;31mValueError\u001b[0m             Traceback (most recent call last)",
      "Input \u001b[1;32mIn [45]\u001b[0m, in \u001b[0;36m<cell line: 1>\u001b[1;34m()\u001b[0m\n\u001b[1;32m----> 1\u001b[0m \u001b[43mpers\u001b[49m\u001b[38;5;241;43m.\u001b[39;49m\u001b[43mnet_input\u001b[49m\u001b[43m(\u001b[49m\u001b[43mX\u001b[49m\u001b[38;5;241;43m.\u001b[39;49m\u001b[43mT\u001b[49m\u001b[43m)\u001b[49m\n",
      "Input \u001b[1;32mIn [30]\u001b[0m, in \u001b[0;36mPerceptron.net_input\u001b[1;34m(self, X)\u001b[0m\n\u001b[0;32m      7\u001b[0m \u001b[38;5;28;01mdef\u001b[39;00m \u001b[38;5;21mnet_input\u001b[39m(\u001b[38;5;28mself\u001b[39m, X):\n\u001b[1;32m----> 8\u001b[0m     \u001b[38;5;28;01mreturn\u001b[39;00m \u001b[43mnp\u001b[49m\u001b[38;5;241;43m.\u001b[39;49m\u001b[43mdot\u001b[49m\u001b[43m(\u001b[49m\u001b[43m \u001b[49m\u001b[43mX\u001b[49m\u001b[43m,\u001b[49m\u001b[43m \u001b[49m\u001b[38;5;28;43mself\u001b[39;49m\u001b[38;5;241;43m.\u001b[39;49m\u001b[43mw\u001b[49m\u001b[43m \u001b[49m\u001b[43m)\u001b[49m\n",
      "File \u001b[1;32m<__array_function__ internals>:180\u001b[0m, in \u001b[0;36mdot\u001b[1;34m(*args, **kwargs)\u001b[0m\n",
      "\u001b[1;31mValueError\u001b[0m: shapes (2,18) and (2,) not aligned: 18 (dim 1) != 2 (dim 0)"
     ]
    }
   ],
   "source": [
    "pers.net_input(X.T)"
   ]
  },
  {
   "cell_type": "code",
   "execution_count": null,
   "id": "23fb702c",
   "metadata": {},
   "outputs": [],
   "source": []
  }
 ],
 "metadata": {
  "kernelspec": {
   "display_name": "Python 3 (ipykernel)",
   "language": "python",
   "name": "python3"
  },
  "language_info": {
   "codemirror_mode": {
    "name": "ipython",
    "version": 3
   },
   "file_extension": ".py",
   "mimetype": "text/x-python",
   "name": "python",
   "nbconvert_exporter": "python",
   "pygments_lexer": "ipython3",
   "version": "3.10.2"
  }
 },
 "nbformat": 4,
 "nbformat_minor": 5
}
